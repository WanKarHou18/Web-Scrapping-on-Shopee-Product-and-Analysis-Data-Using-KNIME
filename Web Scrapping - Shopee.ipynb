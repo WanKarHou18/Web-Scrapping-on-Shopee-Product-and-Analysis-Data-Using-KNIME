{
 "cells": [
  {
   "cell_type": "code",
   "execution_count": 1,
   "id": "006c18a6",
   "metadata": {},
   "outputs": [],
   "source": [
    "from bs4 import BeautifulSoup\n",
    "from selenium import webdriver\n",
    "from selenium.webdriver.chrome.options import Options\n",
    "from selenium.webdriver.support.ui import WebDriverWait\n",
    "from selenium.common.exceptions import TimeoutException\n",
    "from time import sleep\n",
    "import pandas as pd"
   ]
  },
  {
   "cell_type": "markdown",
   "id": "883c7fc5",
   "metadata": {},
   "source": [
    "# Testing Part"
   ]
  },
  {
   "cell_type": "code",
   "execution_count": 29,
   "id": "63b1c511",
   "metadata": {},
   "outputs": [],
   "source": [
    "#Testing on Selenium\n",
    "driver = webdriver.Chrome(executable_path=\"D:\\\\chromedriver_win32\\\\chromedriver.exe\")\n",
    "driver.maximize_window()\n",
    "#driver.implicity_wait(10)\n",
    "\n",
    "driver.get(\"https://google.co.in\")\n",
    "driver.find_element_by_name('q').send_keys('Selenium')\n",
    "driver.find_element_by_name('btnK').submit()\n",
    "driver.close()\n"
   ]
  },
  {
   "cell_type": "markdown",
   "id": "99238373",
   "metadata": {},
   "source": [
    "# Web Scrapping on Shopee product- Ahmad Jasmine Green Tea ( 25 tea bags)"
   ]
  },
  {
   "cell_type": "code",
   "execution_count": 2,
   "id": "7b67e491",
   "metadata": {},
   "outputs": [],
   "source": [
    "item_cost, item_init_cost, item_loc = [],[],[]\n",
    "item_name, items_sold = [], []\n",
    "shopee_base_url_list =[]"
   ]
  },
  {
   "cell_type": "code",
   "execution_count": 3,
   "id": "9be71332",
   "metadata": {},
   "outputs": [
    {
     "name": "stdout",
     "output_type": "stream",
     "text": [
      "['https://shopee.com.my/search?keyword=ahmad%20jasmine%20green%20tea%20(%2025%20tea%20bags)&page=0', 'https://shopee.com.my/search?keyword=ahmad%20jasmine%20green%20tea%20(%2025%20tea%20bags)&page=1', 'https://shopee.com.my/search?keyword=ahmad%20jasmine%20green%20tea%20(%2025%20tea%20bags)&page=2']\n"
     ]
    }
   ],
   "source": [
    "#========================\n",
    "#Generate all related URL \n",
    "#=======================\n",
    "main_url=\"https://shopee.com.my/search?keyword=ahmad%20jasmine%20green%20tea%20(%2025%20tea%20bags)&page=\"\n",
    "for i in range(1):\n",
    "    temp_url=main_url+str(i)\n",
    "    shopee_base_url_list.append(temp_url)\n",
    "print(shopee_base_url_list)"
   ]
  },
  {
   "cell_type": "code",
   "execution_count": 4,
   "id": "32e28368",
   "metadata": {},
   "outputs": [],
   "source": [
    "#===============================\n",
    "#Define Browser\n",
    "#===============================\n",
    "# create object for chrome options\n",
    "chrome_options = Options()\n",
    "# set chrome driver options to disable any popup's from the website\n",
    "# to find local path for chrome profile, open chrome browser\n",
    "# and in the address bar type, \"chrome://version\"\n",
    "chrome_options.add_argument('disable-notifications')\n",
    "chrome_options.add_argument('--disable-infobars')\n",
    "chrome_options.add_argument('start-maximized')\n",
    "chrome_options.add_argument('--profile-directory=Default')\n",
    "chrome_options.add_argument('--user-data-dir=C:/Temp/ChromeProfile')\n",
    "#chrome_options.add_argument('user-data-dir=C:\\\\Users\\\\username\\\\AppData\\\\Local\\\\Google\\\\Chrome\\\\User Data\\\\Default')\n",
    "\n",
    "# To disable the message, \"Chrome is being controlled by automated test software\"\n",
    "chrome_options.add_argument(\"disable-infobars\")\n",
    "# Pass the argument 1 to allow and 2 to block\n",
    "chrome_options.add_experimental_option(\"prefs\", { \n",
    "    \"profile.default_content_setting_values.notifications\": 2\n",
    "    })\n",
    "\n",
    "\n"
   ]
  },
  {
   "cell_type": "code",
   "execution_count": 5,
   "id": "f5aec7a2",
   "metadata": {},
   "outputs": [],
   "source": [
    "#=======================================\n",
    "#Function-fetch data from specific URL\n",
    "#=======================================\n",
    "def fetchData(browser,url):\n",
    "    while True:\n",
    "        try:\n",
    "            base_url = url\n",
    "            browser.get(base_url)\n",
    "            delay = 5 #secods\n",
    "            \n",
    "            WebDriverWait(browser, delay)\n",
    "            print (\"Page is ready\")\n",
    "            sleep(5)\n",
    "            html = browser.execute_script(\"return document.getElementsByTagName('html')[0].innerHTML\")\n",
    "            #print(html)\n",
    "            soup = BeautifulSoup(html, \"html.parser\")\n",
    "\n",
    "            # find_all() returns an array of elements. \n",
    "            # We have to go through all of them and select that one you are need. And than call get_text()\n",
    "            for item_n in soup.find_all('div', class_='_10Wbs- _5SSWfi UjjMrh'):\n",
    "                print(item_n.get_text())\n",
    "                item_name.append(item_n.text)\n",
    "\n",
    "            # find the price of items\n",
    "            for item_c_outter in soup.find_all('div', class_='zp9xm9 xSxKlK _1heB4J'):\n",
    "                print(item_c_outter.text)\n",
    "                item_cost.append(item_c_outter.text)\n",
    "\n",
    "            # find total number of items sold/month\n",
    "            for items_s in soup.find_all('div',class_ = '_2VIlt8'):\n",
    "                print(items_s.get_text())\n",
    "                items_sold.append(items_s.text)\n",
    "\n",
    "            # find item location\n",
    "            for il in soup.find_all('div', class_ = '_1w5FgK'):\n",
    "                print(il.get_text())\n",
    "                item_loc.append(il.text)\n",
    "\n",
    "            break # it will break from the loop once the specific element will be present. \n",
    "    \n",
    "        except TimeoutException:\n",
    "            print (\"Loading took too much time!-Try again\")"
   ]
  },
  {
   "cell_type": "code",
   "execution_count": 6,
   "id": "7edf0791",
   "metadata": {},
   "outputs": [
    {
     "name": "stdout",
     "output_type": "stream",
     "text": [
      "Page is ready\n",
      "Ahmad Tea - Green Tea / Jasmine Green Tea / Earl Grey (100 Tea Bags) / Detox (20Tb)\n",
      "Ahmad Green Tea / Jasmine Green Tea / Earl Grey (25 Teabags x 1 Box)\n",
      "Ahmad Tea Green Tea / Detox & Assorted Flavour\n",
      "TEATICS GUAVA LEAF GREEN TEA 番石榴叶茶 [GOLD PREMIUM QUALITY]- TEH DAUN JAMBU BATU BUATAN MALAYSIA 45 X2g\n",
      "AHMAD TEA LONDON (Green Tea/Peach & Passion Fruit/Jasmine Green Tea/Detox/Lemon & Ginger)/Teh Hijau/Teh Hitam/ Black Tea\n",
      "Ahmad Tea Jasmine Green Tea (25 Teabags) Halal Certified\n",
      "Ahmad Tea Jasmine Green Tea 2g x 25 tea bags\n",
      "*HALAL*Ahmad Tea Green Tea / Jasmine Green Tea / Earl Grey / English Breakfast - 25 Tea Bags\n",
      "Ahmad Tea - Jasmine Green Tea (25's x 2g)\n",
      "AHMAD TEA JASMINE GREEN TEA  (100 /25 Tea Bags)\n",
      "Ahmad Tea Jasmine Green Tea - 25 teabags\n",
      "Ahmad Tea Lonton Green Tea / Jasmine Green Tea (25 tea bags)\n",
      "[Ready Stock] AHMAD TEA Jasmine Green Tea Teh Hijau Jasmin Bunga Melur Great Taste Kaya Antioksidan 25 Teabags\n",
      "Ahmad Green Tea / Jasmine Green Tea / Earl Grey (25 Teabags x 1 Box)\n",
      "Ahmad tea 25 tea bags jasmine green tea\n",
      "RM9.90 - RM17.45\n",
      "RM5.30\n",
      "RM9.50 - RM11.80\n",
      "RM45.00\n",
      "RM5.90 - RM12.90\n",
      "RM5.40\n",
      "RM5.55\n",
      "RM5.34 - RM5.74\n",
      "RM5.83\n",
      "RM3.99 - RM22.99\n",
      "RM5.00\n",
      "RM5.99\n",
      "RM5.69\n",
      "RM5.30\n",
      "RM25.00\n",
      "11.2k sold\n",
      "5.9k sold\n",
      "1.4k sold\n",
      "4.3k sold\n",
      "128 sold\n",
      "2.3k sold\n",
      "4 sold\n",
      "1.7k sold\n",
      "716 sold\n",
      "101 sold\n",
      "250 sold\n",
      "13 sold\n",
      "33 sold\n",
      "5.9k sold\n",
      "50 sold\n",
      "Perak\n",
      "Perak\n",
      "Perak\n",
      "Kedah\n",
      "Johor\n",
      "Selangor\n",
      "Selangor\n",
      "Penang\n",
      "Selangor\n",
      "Perak\n",
      "Selangor\n",
      "Perak\n",
      "Selangor\n",
      "Perak\n",
      "Selangor\n",
      "Page is ready\n",
      "Page is ready\n"
     ]
    }
   ],
   "source": [
    "# invoke the webdriver\n",
    "browser = webdriver.Chrome(executable_path =\"D:\\\\chromedriver_win32\\\\chromedriver.exe\",\n",
    "            options = chrome_options)\n",
    "\n",
    "for i in range(len(shopee_base_url_list)):\n",
    "    fetchData(browser,shopee_base_url_list[i])\n",
    "    "
   ]
  },
  {
   "cell_type": "markdown",
   "id": "5a75deb7",
   "metadata": {},
   "source": [
    "# Data Preprocessing"
   ]
  },
  {
   "cell_type": "code",
   "execution_count": 7,
   "id": "5d286418",
   "metadata": {},
   "outputs": [
    {
     "name": "stdout",
     "output_type": "stream",
     "text": [
      "[17.45, 5.3, 11.8, 45.0, 12.9, 5.4, 5.55, 5.74, 5.83, 22.99, 5.0, 5.99, 5.69, 5.3, 25.0]\n"
     ]
    }
   ],
   "source": [
    "# Data Preprocessing - Prices\n",
    "#item_cost =['RM13.40-RM15.00','RM17.00']\n",
    "for i in range(len(item_cost)):\n",
    "    query1 = item_cost[i]\n",
    "    if(query1.find('-')!=-1):\n",
    "        #Remove parts before '-'\n",
    "         #If the data is 'RM13.40-RM15.00', select the highest value,RM15\n",
    "        query1 = query1[query1.index('-')+1:]\n",
    "    #Remove parts before'M' \n",
    "    query1 = query1[query1.index('M')+1:]\n",
    "    item_cost[i]=float(query1)\n",
    "print(item_cost)"
   ]
  },
  {
   "cell_type": "code",
   "execution_count": 8,
   "id": "d77d0d9f",
   "metadata": {},
   "outputs": [
    {
     "name": "stdout",
     "output_type": "stream",
     "text": [
      "[11200.0, 5900.0, 1400.0, 4300.0, 128.0, 2300.0, 4.0, 1700.0, 716.0, 101.0, 250.0, 13.0, 33.0, 5900.0, 50.0]\n"
     ]
    }
   ],
   "source": [
    "#Data Preprocessing - Units sold\n",
    "#items_sold=['167 sold','1.6k sold']\n",
    "for i in range(len(items_sold)):\n",
    "    query1=items_sold[i]\n",
    "    #Remove Space\n",
    "    query1.replace(\" \", \"\")\n",
    "    #Remove parts after 's' \n",
    "    #'-1' is for remove the white space\n",
    "    query1 = query1[:query1.index('s')-1]\n",
    "    if(query1.find('k')!=-1):\n",
    "        #Turn k into 1000\n",
    "        query1= query1[:query1.index('k')]\n",
    "        sold_number=float(query1)*1000\n",
    "    else:\n",
    "        sold_number=float(query1)\n",
    "    items_sold[i]=sold_number\n",
    "print(items_sold)"
   ]
  },
  {
   "cell_type": "code",
   "execution_count": 9,
   "id": "57ee5a86",
   "metadata": {},
   "outputs": [
    {
     "name": "stdout",
     "output_type": "stream",
     "text": [
      "15\n",
      "15\n",
      "15\n",
      "15\n"
     ]
    }
   ],
   "source": [
    "index_list =[]\n",
    "index_list=[i for i in range(len(item_name))]\n",
    "\n",
    "data ={'Item Name':item_name,\n",
    "      'Price':item_cost,\n",
    "        'Items Sold':items_sold,\n",
    "      'Location':item_loc}\n",
    "print(len(item_name))\n",
    "print(len(item_cost))\n",
    "print(len(item_loc))\n",
    "print(len(items_sold))\n",
    "create_df = pd.DataFrame(data,index=index_list)"
   ]
  },
  {
   "cell_type": "markdown",
   "id": "c24c98b3",
   "metadata": {},
   "source": [
    "# Convert to Excel File"
   ]
  },
  {
   "cell_type": "code",
   "execution_count": 10,
   "id": "e1ab3ee8",
   "metadata": {},
   "outputs": [
    {
     "data": {
      "text/html": [
       "<div>\n",
       "<style scoped>\n",
       "    .dataframe tbody tr th:only-of-type {\n",
       "        vertical-align: middle;\n",
       "    }\n",
       "\n",
       "    .dataframe tbody tr th {\n",
       "        vertical-align: top;\n",
       "    }\n",
       "\n",
       "    .dataframe thead th {\n",
       "        text-align: right;\n",
       "    }\n",
       "</style>\n",
       "<table border=\"1\" class=\"dataframe\">\n",
       "  <thead>\n",
       "    <tr style=\"text-align: right;\">\n",
       "      <th></th>\n",
       "      <th>Item Name</th>\n",
       "      <th>Price</th>\n",
       "      <th>Items Sold</th>\n",
       "      <th>Location</th>\n",
       "    </tr>\n",
       "  </thead>\n",
       "  <tbody>\n",
       "    <tr>\n",
       "      <th>0</th>\n",
       "      <td>Ahmad Tea - Green Tea / Jasmine Green Tea / Ea...</td>\n",
       "      <td>17.45</td>\n",
       "      <td>11200.0</td>\n",
       "      <td>Perak</td>\n",
       "    </tr>\n",
       "    <tr>\n",
       "      <th>1</th>\n",
       "      <td>Ahmad Green Tea / Jasmine Green Tea / Earl Gre...</td>\n",
       "      <td>5.30</td>\n",
       "      <td>5900.0</td>\n",
       "      <td>Perak</td>\n",
       "    </tr>\n",
       "    <tr>\n",
       "      <th>2</th>\n",
       "      <td>Ahmad Tea Green Tea / Detox &amp; Assorted Flavour</td>\n",
       "      <td>11.80</td>\n",
       "      <td>1400.0</td>\n",
       "      <td>Perak</td>\n",
       "    </tr>\n",
       "    <tr>\n",
       "      <th>3</th>\n",
       "      <td>TEATICS GUAVA LEAF GREEN TEA 番石榴叶茶 [GOLD PREMI...</td>\n",
       "      <td>45.00</td>\n",
       "      <td>4300.0</td>\n",
       "      <td>Kedah</td>\n",
       "    </tr>\n",
       "    <tr>\n",
       "      <th>4</th>\n",
       "      <td>AHMAD TEA LONDON (Green Tea/Peach &amp; Passion Fr...</td>\n",
       "      <td>12.90</td>\n",
       "      <td>128.0</td>\n",
       "      <td>Johor</td>\n",
       "    </tr>\n",
       "  </tbody>\n",
       "</table>\n",
       "</div>"
      ],
      "text/plain": [
       "                                           Item Name  Price  Items Sold  \\\n",
       "0  Ahmad Tea - Green Tea / Jasmine Green Tea / Ea...  17.45     11200.0   \n",
       "1  Ahmad Green Tea / Jasmine Green Tea / Earl Gre...   5.30      5900.0   \n",
       "2     Ahmad Tea Green Tea / Detox & Assorted Flavour  11.80      1400.0   \n",
       "3  TEATICS GUAVA LEAF GREEN TEA 番石榴叶茶 [GOLD PREMI...  45.00      4300.0   \n",
       "4  AHMAD TEA LONDON (Green Tea/Peach & Passion Fr...  12.90       128.0   \n",
       "\n",
       "  Location  \n",
       "0    Perak  \n",
       "1    Perak  \n",
       "2    Perak  \n",
       "3    Kedah  \n",
       "4    Johor  "
      ]
     },
     "execution_count": 10,
     "metadata": {},
     "output_type": "execute_result"
    }
   ],
   "source": [
    "create_df.head()"
   ]
  },
  {
   "cell_type": "code",
   "execution_count": 11,
   "id": "2e0b0f51",
   "metadata": {},
   "outputs": [],
   "source": [
    "create_df.to_excel(\"Ahmad Jasmine Green Tea-25 tea bags.xlsx\",sheet_name='Page 1')  "
   ]
  }
 ],
 "metadata": {
  "kernelspec": {
   "display_name": "Python 3 (ipykernel)",
   "language": "python",
   "name": "python3"
  },
  "language_info": {
   "codemirror_mode": {
    "name": "ipython",
    "version": 3
   },
   "file_extension": ".py",
   "mimetype": "text/x-python",
   "name": "python",
   "nbconvert_exporter": "python",
   "pygments_lexer": "ipython3",
   "version": "3.9.0"
  }
 },
 "nbformat": 4,
 "nbformat_minor": 5
}
